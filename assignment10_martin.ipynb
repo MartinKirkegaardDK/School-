{
 "cells": [
  {
   "cell_type": "markdown",
   "metadata": {},
   "source": [
    "# Assignment 10\n",
    "#### Due November 25, 2020, 23:59\n",
    "\n",
    "In this week's assignment, you will be building a machine learning model for classification, and test the performance of your model. Namely, you will be using the scikit-learn implementation of the K-Nearest Neighbour classification algorithm to predict the class of iris flowers and plot the accuracy of your model.\n",
    "\n",
    "We will return to the famous iris dataset from assignment 5. The data is once again given in the file `iris.data` which contains the collection of iris flowers, one flower per row, each described by four attributes and the class it belongs to:\n",
    "\n",
    "1. sepal length in cm\n",
    "2. sepal width in cm \n",
    "3. petal length in cm \n",
    "4. petal width in cm \n",
    "5. class:\n",
    "    - 0 = Iris Setosa\n",
    "    - 1 = Iris Versicolour\n",
    "    - 2 = Iris Virginica\n",
    "\n",
    "<img src=\"img/iris.png\" width=\"600\">\n",
    "\n",
    "You can find more details on the dataset [here](https://archive.ics.uci.edu/ml/datasets/iris).\n",
    "\n",
    "\n",
    "___\n",
    "### K-Nearest Neighbor\n",
    "\n",
    "K-Nearest Neighbor, KNN, is a simple supervised classification algorithm which we can use to assign a class to a new unseen data point. It stores all available data points, and classifies a new unseen data point based on how the majority of its neighbours are labelled. You can imagine the data as being plotted in an N-dimensional scatter plot, where N is equal to the number of attributes describing the data.\n",
    "\n",
    "KNN can be summarized like this:\n",
    "1. Compute the distance between the new unseen data point and every existing data point.\n",
    "2. Pick the *k* datapoints which are closest to the new data point.\n",
    "3. Assign the class of the new data point based on the majority vote, i.e the most common class among the *k* nearest data points will be the class of the new data point.\n",
    "\n",
    "This process is visualised in the figure below for two classes, A and B, described by two features, x<sub>1</sub> and x<sub>2</sub>, for the values of k = 3 and k = 7.\n",
    "\n",
    "<img src=\"img/knn.png\" width=\"800\">\n",
    "\n",
    "Like most machine learning algorithms, the *k* in KNN is a hyperparameter that you, as a data scientist, must decide for the specific task to get the most suitable fit for the data set. You won't have to choose a specific value of *k* for this assignment, but you will inspect the performance of your model for different values of *k*.\n",
    "- When *k* is small, we get a complex model, but it might **overfit** to our data, meaning it will be extremely specific to the data it is trained on, and probably won't generalise well to new unseen data.\n",
    "- A higher value of *k* gets you a less complex model. Here you risk to **underfit** your model, which means your might not be capturing the relationship between your features and your classes too well. This model will generalise better to unseen data, but at the risk of its performance just being consistently bad.\n",
    "\n",
    "In general for KNN, as the value of *k* increases there will be a rise in test accuracy and then it will fall again. Our model gets the best performance when we hit the sweet spot between overfitting and underfitting.\n",
    "\n",
    "<img src=\"img/overunder.png\" width=\"500\">\n",
    "\n",
    "___\n",
    "\n",
    "## Submission\n",
    "\n",
    "Edit and turn in this jupyter notebook file containing your solutions to each task.  \n",
    "Implement your solution to each of the exercises in the code field below the exercise description.  \n",
    "\n",
    "Make sure that we are able to run the notebook by placing our own copy of `iris.data` inside the same folder as this notebook.\n",
    "\n",
    "The libraries you may need are already given, any extra imports are not allowed.\n",
    "\n",
    "\n",
    "\n",
    "## Assignment"
   ]
  },
  {
   "cell_type": "code",
   "execution_count": 1,
   "metadata": {},
   "outputs": [],
   "source": [
    "import numpy as np\n",
    "from sklearn.model_selection import train_test_split\n",
    "from sklearn.neighbors import KNeighborsClassifier\n",
    "from sklearn.metrics import accuracy_score\n",
    "import matplotlib.pyplot as plt"
   ]
  },
  {
   "cell_type": "markdown",
   "metadata": {},
   "source": [
    "### Exercise 1\n",
    "We'll begin by loading the data from the file `iris.data` into a numpy array.  \n",
    "Extract the attributes (sepal length, sepal width, petal length, and petal width) into a matrix, `X`, and the target class into a column vector, `y`. \n",
    "\n",
    "**NB!** `iris.data` is formatted as a whitespace-delimited data file and can be loaded using `np.loadtxt()` with default parameters.\n",
    "\n",
    "\n",
    "___\n",
    "`X.shape`  \n",
    "\\>\\> `(150,4)`\n",
    "\n",
    "`y.shape`  \n",
    "\\>\\> `(150,)`"
   ]
  },
  {
   "cell_type": "code",
   "execution_count": 2,
   "metadata": {},
   "outputs": [
    {
     "name": "stdout",
     "output_type": "stream",
     "text": [
      "(150, 4) (150,)\n"
     ]
    }
   ],
   "source": [
    "# your solution to exercise 1 here\n",
    "path = r'C:/Users/tjupp/Desktop/ITU/Intro_programing/Assignment10/iris.data' \n",
    "#I have gotten some feedback regarding how i define the path.\n",
    "#You want me to do something like \"path = iris.data\", however when I do this it returns  FileNotFoundError\n",
    "#[Errno 2] No such file or directory: 'iris.data'\n",
    "#I dont know why, everything is within the same folder\n",
    "\n",
    "\n",
    "\n",
    "raw_data = np.loadtxt(path) #I load the data\n",
    "x = raw_data[:,:4] #I chose the first 4 columns\n",
    "y = raw_data[:,-1]#I chose the last column\n",
    "print(x.shape,y.shape)"
   ]
  },
  {
   "cell_type": "markdown",
   "metadata": {},
   "source": [
    "### Exercise 2\n",
    "Training and testing on the same data is not a good idea, so we split the data into two parts: training set and test set.  Since we are training and testing on different sets of data, the resulting test accuracy will be a better estimate of how well the model is likely to perform on unseen data.\n",
    "\n",
    "Use the scikit-learn function `train_test_split(X,y)` to shuffle and split the data. You **must** also use the following parameters:\n",
    "- test-size: 0.2 -- determines the split percentage.\n",
    "- random_state: 4 -- makes the data shuffle and split the same way every time you run.\n",
    "\n",
    "Full documentation for train_test_split can be found [here](https://scikit-learn.org/stable/modules/generated/sklearn.model_selection.train_test_split.html). \n",
    "\n",
    "___\n",
    "`X_train.shape`  \n",
    "\\>\\> `(120,4)`\n",
    "\n",
    "`X_test[0]`  \n",
    "\\>\\> `array([6.4, 2.8, 5.6, 2.1])`"
   ]
  },
  {
   "cell_type": "code",
   "execution_count": 3,
   "metadata": {},
   "outputs": [
    {
     "name": "stdout",
     "output_type": "stream",
     "text": [
      "(120, 4) [6.4 2.8 5.6 2.1]\n"
     ]
    }
   ],
   "source": [
    "# your solution to exercise 2 here\n",
    "x_train, x_test, y_train, y_test = train_test_split(x,y,test_size=0.2, random_state = 4)\n",
    "#I split the data\n",
    "print(x_train.shape, x_test[0])"
   ]
  },
  {
   "cell_type": "markdown",
   "metadata": {},
   "source": [
    "### Exercise 3\n",
    "Now it's finally time to actually make our model and use it for making predictions. This is done in 3 steps:\n",
    "\n",
    "1. Create an instance of the class KNeighborsClassifer, `knn`, which will be an object that knows how to do KNN classification once we provide the data. The parameter `n_neighbor` is the hyper parameter of our model, *k*.\n",
    "2. Apply the `fit` method to the `knn` object to train the model on our training data, `X_train` and `y_train`.\n",
    "3. Finally, apply the `predict` method to the `knn` object, which returns an array of the classes our model predicted for the given test data, `X_test`. \n",
    "\n",
    "**Create a function, `make_knn_prediction(k)`**, which takes the parameter `k`. It should make a KNN machine learning model with the hyperparameter `n_neighbor = k`, trained on the train. The function should return a numpy array of class predictions for the data from `X_test`.\n",
    "\n",
    "Full documentation for the KNeighborsClassifer class can be found [here](https://scikit-learn.org/stable/modules/generated/sklearn.neighbors.KNeighborsClassifier.html). You can also jump straight to the [fit](https://scikit-learn.org/stable/modules/generated/sklearn.neighbors.KNeighborsClassifier.html#sklearn.neighbors.KNeighborsClassifier.fit) or [predict](https://scikit-learn.org/stable/modules/generated/sklearn.neighbors.KNeighborsClassifier.html#sklearn.neighbors.KNeighborsClassifier.predict) methods.\n",
    "___\n",
    "\n",
    "`make_knn_prediction(5)`  \n",
    "\\>\\> `array([2, 0, 2, 2, 2, ... , 0, 0, 0, 0, 2])`"
   ]
  },
  {
   "cell_type": "code",
   "execution_count": 4,
   "metadata": {},
   "outputs": [
    {
     "data": {
      "text/plain": [
       "array([2., 0., 2., 2., 2., 1., 2., 0., 0., 2., 0., 0., 0., 1., 2., 0., 1.,\n",
       "       0., 0., 2., 0., 2., 1., 0., 0., 0., 0., 0., 0., 2.])"
      ]
     },
     "execution_count": 4,
     "metadata": {},
     "output_type": "execute_result"
    }
   ],
   "source": [
    "# your solution to exercise 3 here\n",
    "#I create the function to make the prediction\n",
    "def make_knn_prediction(k):\n",
    "    neigh = KNeighborsClassifier(n_neighbors=k)\n",
    "    neigh.fit(x_train, y_train)\n",
    "    return neigh.predict(x_test)\n",
    "make_knn_prediction(5)"
   ]
  },
  {
   "cell_type": "markdown",
   "metadata": {},
   "source": [
    "### Exercise 4\n",
    "Choosing the optimal value of the hyperparameter *k* is critical, so we fit and test the model for different values of *k* to see which is better. Let's visually inspect the results to see how our model behaves.\n",
    "\n",
    "Run your function from exercise 3 for a range of different values of *k* (from 1 to 70). For each value of *k*, record the testing accuracy in a list, `performance`, using the scikit-learn function `accuracy_score` to compare the ground truth, `y_test`, to your predicted labels.  \n",
    "The documentation for the accuracy_score function can be found [here](https://scikit-learn.org/stable/modules/generated/sklearn.metrics.accuracy_score.html).\n",
    "\n",
    "Use matplotlib to **plot the relationship** between the values of *k* and the corresponding test accuracies.\n",
    "___\n",
    "\n",
    "<img src=\"img/example.png\" align=\"left\" width=\"400\">"
   ]
  },
  {
   "cell_type": "code",
   "execution_count": 5,
   "metadata": {},
   "outputs": [],
   "source": [
    "# Your solution to exercise 4 here\n",
    "acc = []\n",
    "for i in range(1,71):\n",
    "    pred = make_knn_prediction(i) #Here i create the prediction and appending it\n",
    "    acc.append((accuracy_score(y_test, pred)))"
   ]
  },
  {
   "cell_type": "code",
   "execution_count": 6,
   "metadata": {},
   "outputs": [
    {
     "data": {
      "image/png": "[encoded data removed]",
      "text/plain": [
       "<Figure size 432x288 with 1 Axes>"
      ]
     },
     "metadata": {
      "needs_background": "light"
     },
     "output_type": "display_data"
    }
   ],
   "source": [
    "#Here I simply create the plot\n",
    "plt.plot\n",
    "plt.ylabel('Prediction accuracy')\n",
    "plt.xlabel('Value of K')\n",
    "plt.title('Iris classification accuracy of KNN for different values of k')\n",
    "plt.ylim(0.86,1)\n",
    "plt.plot(acc)\n",
    "plt.grid()\n",
    "plt.show()"
   ]
  }
 ],
 "metadata": {
  "kernelspec": {
   "display_name": "Python 3",
   "language": "python",
   "name": "python3"
  },
  "language_info": {
   "codemirror_mode": {
    "name": "ipython",
    "version": 3
   },
   "file_extension": ".py",
   "mimetype": "text/x-python",
   "name": "python",
   "nbconvert_exporter": "python",
   "pygments_lexer": "ipython3",
   "version": "3.7.4"
  }
 },
 "nbformat": 4,
 "nbformat_minor": 4
}
