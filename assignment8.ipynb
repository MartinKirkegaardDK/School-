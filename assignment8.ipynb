{
 "cells": [
  {
   "cell_type": "markdown",
   "metadata": {},
   "source": [
    "# Assignment 8\n",
    "#### Due November 11, 2020, 23:59\n",
    "\n",
    "In this week’s assignment, we are going dive to dive back into graph theory and expand on the subject of network science.  \n",
    "Graphs are powerful constructs with even more powerful mathematical properties that we can take advantage of when we can formulate our problems as a graph. This time around, we are interested in one network property in particular: the **local clustering coefficient** of a node.\n",
    "\n",
    "## Submission\n",
    "Edit and turn in this jupyter notebook file containing your solutions to each task.  \n",
    "Implement your solution to each of the exercises in the code field below the exercise description.  \n",
    "\n",
    "The libraries you may need are already given, any extra imports are not allowed.\n",
    "\n",
    "___\n",
    "\n",
    "### Local clustering coefficient\n",
    "In this assignment, we want to calculate the local clustering coefficient of a node in an undirected graph. \n",
    "\n",
    "Recall that an undirected graph consists a set of nodes that are connected to some extent, where all the edges that connect the nodes are bidirectional. \n",
    "Imagine, for example, a graph where the nodes represent people at a party pre-corona and there is an edge between two people if they shook hands. This example graph is undirected because any person, A, can shake hands with another person, B, only if B also shakes hands with A. This means that if A is connected to B, then B is also per definition automatically connected to A.\n",
    "\n",
    "The intuition behind the **local clustering coefficient** metric is that it describes the connectivity of the neighborhood of a node. That is, the proportion of connections among its neighbours which are actually realised out of the number of all possible connections.\n",
    "\n",
    "Imagine a person, A, that has three friends: B, C, and D. These friends are person A’s neighborhood. They all have in common that they are friends with A. However, they might not be friends with each other. The local clustering coefficient expresses how many of A’s friends are in fact also friends with each other. \n",
    "\n",
    "Different scenarios for the local clustering coefficient of A:\n",
    "- $LCC_A = \\frac{0}{3}$ -- noone is friends in the neighbourhood: no nodes are connected\n",
    "- $LCC_A = \\frac{1}{3}$ -- only B and C are friends (or only C and D, or only D and B)\n",
    "- $LCC_A = \\frac{2}{3}$ -- we have two pairs of friends in the neighbourhood\n",
    "- $LCC_A = \\frac{3}{3}$ -- everybody is friends in the neighbourhood: all nodes are connected\n",
    "\n",
    "\n",
    "<img src=\"img/clustering_coeff.png\" align=\"center\">\n",
    "\n",
    "___\n",
    "\n",
    "## Assignment\n",
    "Your task in the following exercises is to compute the local clustering coefficient from various representations of the same undirected graph, `tiny`, consisting of 5 nodes and 7 edges.\n"
   ]
  },
  {
   "cell_type": "code",
   "execution_count": 1,
   "metadata": {},
   "outputs": [],
   "source": [
    "import numpy as np"
   ]
  },
  {
   "cell_type": "markdown",
   "metadata": {},
   "source": [
    "### Exercise 1\n",
    "As we know, one way of representing a graph is with an edge list. \n",
    "This representation can be found in the file `tiny_edgelist.txt`. The file contains one edge per line, shown as an edge pair of 2 integers separated by whitespace. Investigate the file to further by yourself to see the formatting of the edge pairs. \n",
    "\n",
    "Write a function called `coefficient_from_edgelist(edgefile, node_id)` that takes an edge list file formatted like so, and a node, and returns the local clustering coefficient for that node, rounded to 3 decimals.\n",
    "___\n",
    "`coefficient_from_edgelist(tiny_edgelist.txt, 2)`  \n",
    "\\>\\> `0.667`"
   ]
  },
  {
   "cell_type": "code",
   "execution_count": 427,
   "metadata": {},
   "outputs": [],
   "source": [
    "# your solution to exercise 1 here\n",
    "edgelist_path = r'C:/Users/tjupp/Desktop/ITU/Intro_programing/Assignment8/tiny_edgelist.txt'\n",
    "edgelist_path = np.loadtxt(edgelist_path)"
   ]
  },
  {
   "cell_type": "code",
   "execution_count": 540,
   "metadata": {
    "scrolled": true
   },
   "outputs": [
    {
     "name": "stdout",
     "output_type": "stream",
     "text": [
      "[[1.0, 3.0], [1.0, 4.0]]\n"
     ]
    },
    {
     "data": {
      "text/plain": [
       "0.667"
      ]
     },
     "execution_count": 540,
     "metadata": {},
     "output_type": "execute_result"
    }
   ],
   "source": [
    "\n",
    "def coefficient_from_edgelist(edgelist_arg, node_arg):\n",
    "    #This just converts np arrays to lists\n",
    "    a = edgelist_arg\n",
    "    try:\n",
    "        edgelist = a.tolist()\n",
    "    except:\n",
    "        edgelist = a\n",
    "    degree = 0\n",
    "   \n",
    "    #computing degree\n",
    "    li = []\n",
    "    for elm in edgelist:\n",
    "        for x in elm:\n",
    "            if x in {node_arg}:\n",
    "                li.append(elm)\n",
    "                degree += 1   \n",
    "    #Computes the nodes\n",
    "    flat_list = [item for sublist in li for item in sublist if item != node_arg]\n",
    "    result = []\n",
    "    #computes the edges between the nodes\n",
    "    for p1 in range(len(flat_list)):\n",
    "            for p2 in range(p1+1,len(flat_list)):\n",
    "                    result.append([flat_list[p1],flat_list[p2]])\n",
    "    #removes the edges which do not exist\n",
    "    megasejtnavn = [x for x in result if x in edgelist]\n",
    "    #computes the result\n",
    "    result = len(megasejtnavn)*2/(degree*(degree-1))\n",
    "    #rounds it to 3 decimal points\n",
    "    return round(result, 3)\n",
    "    \n",
    "coefficient_from_edgelist(edgelist_path,2)"
   ]
  },
  {
   "cell_type": "raw",
   "metadata": {},
   "source": [
    "## Exercise 2\n",
    "Another common way to represent a graph is with an adjacency matrix. \n",
    "This representation can be found in the file `tiny_adjmatrix.txt`. Investigate the file by yourself to see the formatting of the adjacency matrix. \n",
    "\n",
    "Write a function called `coefficient_from_adjmatrix(matrixfile, node_id)` that takes an adjacency matrix file formatted like so, and a node, and returns the local clustering coefficient for that node, rounded to 3 decimals.\n",
    "___\n",
    "`coefficient_from_adjmatrix(tiny_edgelist.txt, 0)`  \n",
    "\\>\\> `1.0`"
   ]
  },
  {
   "cell_type": "code",
   "execution_count": 537,
   "metadata": {},
   "outputs": [
    {
     "data": {
      "text/plain": [
       "1.0"
      ]
     },
     "execution_count": 537,
     "metadata": {},
     "output_type": "execute_result"
    }
   ],
   "source": [
    "# your solution to exercise 2 here\n",
    "\"\"\"\n",
    "I dont know if this is by mistake, but the matrix is missing the edgelink 2,3.\n",
    "This yields completly different results when comparing the two functions.\n",
    "This made me sad, because i was trying to find a bug which did not exist. \n",
    "\"\"\"\n",
    "\n",
    "matrix_path = r'C:/Users/tjupp/Desktop/ITU/Intro_programing/Assignment8/tiny_adjmatrix.txt'\n",
    "def coefficient_from_adjmatrix(matrix_arg, node):\n",
    "    matrix = np.loadtxt(matrix_arg)\n",
    "\n",
    "    li = []\n",
    "    #Converts the matrix to an edge list.\n",
    "    for i in range(len(matrix)):\n",
    "        x = 0\n",
    "        while x <= i:\n",
    "            #print(matrix[i][x])\n",
    "            if matrix[i][x] == 1:\n",
    "                li.append([x,i])\n",
    "            x += 1 \n",
    "    #Uses the function from before.\n",
    "    return coefficient_from_edgelist(li, node)\n",
    "\n",
    "coefficient_from_adjmatrix(matrix_path,0)"
   ]
  }
 ],
 "metadata": {
  "kernelspec": {
   "display_name": "Python 3",
   "language": "python",
   "name": "python3"
  },
  "language_info": {
   "codemirror_mode": {
    "name": "ipython",
    "version": 3
   },
   "file_extension": ".py",
   "mimetype": "text/x-python",
   "name": "python",
   "nbconvert_exporter": "python",
   "pygments_lexer": "ipython3",
   "version": "3.7.4"
  }
 },
 "nbformat": 4,
 "nbformat_minor": 4
}
