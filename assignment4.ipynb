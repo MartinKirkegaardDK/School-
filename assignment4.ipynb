{
 "cells": [
  {
   "cell_type": "markdown",
   "metadata": {},
   "source": [
    "# Assignment 4\n",
    "#### Due October 7, 2020, 23:59\n",
    "\n",
    "In this week's assignment, we are going to study the populations of Danish municipalities using NumPy. \n",
    "\n",
    "We have provided you with a CSV-file called `populations.csv` which contains the population size of every municipality in Denmark over the course of 10 years. Each row contains the population of a single  municipality, and each column represents a year in the period 2010-2019. Below is a table with columns describing the data found in `populations.csv`. \n",
    "\n",
    "| 2010 | 2011 | 2012 | 2013 | 2014 | 2015 | 2016 | 2017 | 2018 | 2019 |\n",
    "| ---- | ---- | ---- | ---- | ---- | ---- | ---- | ---- | ---- | ---- |\n",
    "|528208|539542|549050|559440|569557|580184|591481|602481|613288|623404|\n",
    "|96718 |98782 |100215|102029|102717|103192|104481|105037|104410|103960|\n",
    "|...   |      |      |      |      |      |      |      |      |      |\n",
    "|197426|199188|201142|203448|205809|207805|210316|211937|213558|215312|\n",
    "\n",
    "\n",
    "*Note that the names of the municipalities are not directly described in this dataset. If you'd like to check out the original data it may be found on [statistikbanken.dk](https://www.statistikbanken.dk/statbank5a/default.asp?w=1920).*\n",
    "\n",
    "## Submission\n",
    "All exercises this week can and must be solved purely using numpy. This also means that there is no need for any loops or recursion nor any extra imports.\n",
    "\n",
    "As part of each exercise description, **the actual expected output is provided**. Your task is to figure out how to get a matching result, not necesarrily in looks but in numbers. More nicely formatted prints are very much allowed.\n",
    "\n",
    "Implement your solution to each of the exercises in the code field below the exercise description.\n",
    "\n",
    "\n",
    "- Edit and turn in this jupyter notebook file containing your solutions to each task -- keep the name `assignment4.ipynb`.\n",
    "- Make sure that we are able to run the notebook by placing our own copy of `populations.csv` inside the same folder as this notebook.\n",
    "\n",
    "\n",
    "## Assignment"
   ]
  },
  {
   "cell_type": "code",
   "execution_count": 1,
   "metadata": {},
   "outputs": [],
   "source": [
    "import numpy as np"
   ]
  },
  {
   "cell_type": "markdown",
   "metadata": {},
   "source": [
    "### Exercise 1\n",
    "Load the data from `populations.csv` into a matrix using numpy's `loadtxt()` function. Note that numpy defaults to delimit values by spaces. Address this by providing the correct delimiter as an argument to the function.\n",
    "\n",
    "Retrieve and print the number of rows and columns of the resulting matrix.\n",
    "____________________________\n",
    "\n",
    "rows: `99`\n",
    "columns: `10`"
   ]
  },
  {
   "cell_type": "code",
   "execution_count": 2,
   "metadata": {},
   "outputs": [
    {
     "data": {
      "text/plain": [
       "(99, 10)"
      ]
     },
     "execution_count": 2,
     "metadata": {},
     "output_type": "execute_result"
    }
   ],
   "source": [
    "# Your solution to exercise 1\n",
    "\n",
    "#Insert the path to your csv file \n",
    "path = r'C:\\Users\\tjupp\\Desktop\\ITU\\Intro_programing\\Assignment 4\\populations.csv'\n",
    "\n",
    "#Load the data using loadtxt(), set the delimiter to ','\n",
    "data = np.loadtxt(path,delimiter=',')\n",
    "#prints the shape of the data\n",
    "data.shape"
   ]
  },
  {
   "cell_type": "markdown",
   "metadata": {},
   "source": [
    "### Exercise 2\n",
    "Extract a view of the population of all municipalities in the year 2018. With the extracted view, print the smallest and largest population using numpy functions.\n",
    "\n",
    "_______\n",
    "min: `83` \n",
    "max: `613288`"
   ]
  },
  {
   "cell_type": "code",
   "execution_count": 3,
   "metadata": {},
   "outputs": [
    {
     "name": "stdout",
     "output_type": "stream",
     "text": [
      "[6.13288e+05 1.04410e+05 1.42720e+04 4.30630e+04 2.77430e+04 4.82950e+04\n",
      " 3.55380e+04 7.58030e+04 6.94840e+04 2.26630e+04 2.85720e+04 5.32820e+04\n",
      " 5.05960e+04 2.29880e+04 5.54720e+04 3.93430e+04 1.62800e+04 2.52350e+04\n",
      " 4.30000e+04 4.07790e+04 4.51890e+04 4.09110e+04 4.12170e+04 3.11680e+04\n",
      " 6.26860e+04 5.06500e+04 2.50280e+04 5.59890e+04 3.96320e+04 8.30000e+01\n",
      " 4.99740e+04 6.03560e+04 2.75440e+04 8.73820e+04 2.25180e+04 3.61390e+04\n",
      " 6.12190e+04 7.09830e+04 4.89820e+04 4.19820e+04 8.29380e+04 3.30830e+04\n",
      " 3.44730e+04 7.89680e+04 2.96690e+04 2.27270e+04 4.60870e+04 4.13280e+04\n",
      " 5.15360e+04 2.37560e+04 1.26410e+04 3.82100e+04 2.95160e+04 3.20320e+04\n",
      " 2.02348e+05 5.86980e+04 6.17800e+03 2.64820e+04 1.16032e+05 3.40100e+03\n",
      " 5.13260e+04 5.59630e+04 9.25150e+04 7.46500e+04 3.77770e+04 5.03010e+04\n",
      " 4.28440e+04 1.14140e+05 5.90890e+04 4.82710e+04 4.66160e+04 8.95980e+04\n",
      " 3.81970e+04 2.26260e+04 9.82650e+04 3.72000e+03 9.20240e+04 6.11580e+04\n",
      " 4.24680e+04 3.40421e+05 8.87330e+04 5.84180e+04 4.11910e+04 2.01330e+04\n",
      " 5.70050e+04 4.65990e+04 2.12700e+04 9.68830e+04 3.62890e+04 6.01400e+04\n",
      " 6.52570e+04 3.86380e+04 1.80700e+03 4.21250e+04 2.05140e+04 2.98270e+04\n",
      " 4.37160e+04 3.72770e+04 2.13558e+05] \n",
      " ---------------------------------------------------------------------------------------------------- \n",
      " max: 613288.0 min: 83.0\n"
     ]
    }
   ],
   "source": [
    "# Your solution to exercise 2\n",
    "#I grap the 2018 column\n",
    "data_2018 = data[:,8]\n",
    "#Here i print the data and uses amax and amin to get the max and minimum values\n",
    "print(data_2018,'\\n', 100*'-', '\\n', 'max:',np.amax(data_2018),'min:',np.amin(data_2018))"
   ]
  },
  {
   "cell_type": "markdown",
   "metadata": {},
   "source": [
    "### Exercise 3\n",
    "If you inspect the data more closely, you might notice that some values are negative. This is odd and doesn't make a whole lot of sense given that we are looking at the population in municipalities. It turns out that this specifically applies to all municipalities in the year 2014. \n",
    "\n",
    "Correct these values by setting the same population values, but the absolute (positive) value, via matrix slicing. Confirm that the values are now correct by printing the 2014 column.\n",
    "_______\n",
    "` [[569557] \n",
    "  [102717] \n",
    "  [ 13977] \n",
    "    ...    \n",
    "  [ 37479] \n",
    "  [205809]]`"
   ]
  },
  {
   "cell_type": "code",
   "execution_count": 4,
   "metadata": {},
   "outputs": [
    {
     "data": {
      "text/plain": [
       "array([5.69557e+05, 1.02717e+05, 1.39770e+04, 4.19920e+04, 2.77280e+04,\n",
       "       4.85140e+04, 3.45800e+04, 7.42820e+04, 6.66560e+04, 2.20660e+04,\n",
       "       2.77060e+04, 5.18420e+04, 4.88070e+04, 2.15470e+04, 5.42370e+04,\n",
       "       3.75520e+04, 1.50950e+04, 2.41750e+04, 4.22100e+04, 3.95850e+04,\n",
       "       4.44010e+04, 3.84920e+04, 4.07780e+04, 3.06470e+04, 6.15190e+04,\n",
       "       4.86950e+04, 2.47090e+04, 5.50340e+04, 4.02150e+04, 9.00000e+01,\n",
       "       4.80950e+04, 5.83740e+04, 2.69890e+04, 8.42190e+04, 2.13390e+04,\n",
       "       3.51190e+04, 6.10070e+04, 6.90160e+04, 4.83580e+04, 4.35280e+04,\n",
       "       8.14320e+04, 3.25340e+04, 3.33490e+04, 7.69480e+04, 2.92990e+04,\n",
       "       2.18250e+04, 4.52950e+04, 4.10370e+04, 5.10780e+04, 2.36650e+04,\n",
       "       1.26950e+04, 3.76850e+04, 2.90660e+04, 3.13140e+04, 1.95797e+05,\n",
       "       5.79790e+04, 6.39300e+03, 2.63180e+04, 1.15095e+05, 3.26400e+03,\n",
       "       5.03240e+04, 5.59060e+04, 9.00660e+04, 7.52640e+04, 3.83160e+04,\n",
       "       4.99580e+04, 4.26670e+04, 1.09652e+05, 5.89700e+04, 4.71630e+04,\n",
       "       4.57150e+04, 8.56620e+04, 3.79250e+04, 2.17730e+04, 9.63430e+04,\n",
       "       3.76700e+03, 8.96330e+04, 5.81760e+04, 4.17190e+04, 3.23893e+05,\n",
       "       8.68420e+04, 5.73380e+04, 4.06020e+04, 2.09330e+04, 5.70930e+04,\n",
       "       4.69420e+04, 2.15330e+04, 9.44860e+04, 3.56270e+04, 6.04580e+04,\n",
       "       6.54050e+04, 3.83510e+04, 1.80800e+03, 4.20930e+04, 2.10030e+04,\n",
       "       2.87940e+04, 4.42300e+04, 3.74790e+04, 2.05809e+05])"
      ]
     },
     "execution_count": 4,
     "metadata": {},
     "output_type": "execute_result"
    }
   ],
   "source": [
    "# Your solution to exercise 3\n",
    "#Here i use the abs (absolute value) to convert everything to a positive value\n",
    "data_2014 = abs(data[:,4])\n",
    "data_2014"
   ]
  },
  {
   "cell_type": "markdown",
   "metadata": {},
   "source": [
    "### Exercise 4\n",
    "Extract a view of the populations in Denmarks three largest municipalities: København, Aarhus, and Aalborg for the year 2010 and the year 2019. The row indices for the municipalities in question can be found in the table below.\n",
    "\n",
    "| municipality | row index |\n",
    "| --- | --- |\n",
    "| København | 0 |\n",
    "| Aarhus | 79 | \n",
    "| Aalborg | 98 |\n",
    "\n",
    "Print the resulting view.\n",
    "____\n",
    "`[[528208, 623404],\n",
    "  [306650, 345332],\n",
    "  [197426, 215312]]`"
   ]
  },
  {
   "cell_type": "code",
   "execution_count": 5,
   "metadata": {},
   "outputs": [
    {
     "data": {
      "text/plain": [
       "array([[528208., 623404.],\n",
       "       [306650., 345332.],\n",
       "       [197426., 215312.]])"
      ]
     },
     "execution_count": 5,
     "metadata": {},
     "output_type": "execute_result"
    }
   ],
   "source": [
    "# Your solution to exercise 4\n",
    "#Here i generate the size of my expected output array\n",
    "s = (3,2)\n",
    "#Here i generate the lists of the different cities\n",
    "kbh = ([data[0][0],data[0][-1]])\n",
    "Aarhus = ([data[79][0],data[79][-1]])\n",
    "Aalborg = ([data[98][0],data[98][-1]])\n",
    "#Here i create a numpy array\n",
    "nparray = np.array([kbh,Aarhus,Aalborg])\n",
    "#Here i reshape the array to the expected output\n",
    "nparray = nparray.reshape(s)\n",
    "nparray"
   ]
  },
  {
   "cell_type": "markdown",
   "metadata": {},
   "source": [
    "### Exercise 5\n",
    "Given that we know the population of each municipality, we can compute the combined population of different parts of Denmark. \n",
    "\n",
    "For this exercise calculate and print the **combined** population of:\n",
    "1. København, Aarhus, and Aalborg for the year 2019\n",
    "2. All of Denmark for the year 2019\n",
    "___\n",
    "\n",
    "1: `1184048`\n",
    "2: `5806081`"
   ]
  },
  {
   "cell_type": "code",
   "execution_count": 6,
   "metadata": {},
   "outputs": [
    {
     "name": "stdout",
     "output_type": "stream",
     "text": [
      "Sum of major cities: 1184048.0       Population of Denmark 2019: 5806081.0\n"
     ]
    }
   ],
   "source": [
    "# Your solution to exercise 5\n",
    "#Here i compute the sum of the major cities\n",
    "sum_major_cities = kbh[-1] + Aalborg[-1] + Aarhus[-1]\n",
    "#Here i compute the population of Denmark in 2019\n",
    "population_denmark = sum(data[:,9])\n",
    "print('Sum of major cities:', sum_major_cities, '     ', 'Population of Denmark 2019:', population_denmark)"
   ]
  },
  {
   "cell_type": "markdown",
   "metadata": {},
   "source": [
    "### Exercise 6\n",
    "The final exercise is to investigate low-density settlements in Denmark. These are, according to Wikipedia ([link](https://en.wikipedia.org/wiki/Settlement_hierarchy#Low_Density)), settlements with less than 100,000 inhabitants. \n",
    "\n",
    "Create a mask that captures municipalities with populations that were < 100,000 in the year 2019. Use this mask to calculate and print:\n",
    "1. How many municipalities are low density settlements\n",
    "2. How many people in total live in these areas\n",
    "___\n",
    "1: `92`\n",
    "2: `4083409`"
   ]
  },
  {
   "cell_type": "code",
   "execution_count": 7,
   "metadata": {},
   "outputs": [
    {
     "name": "stdout",
     "output_type": "stream",
     "text": [
      " Number of municipalities with low density settlements: 92 \n",
      " Sum of people on low density: 4083409.0\n"
     ]
    }
   ],
   "source": [
    "# Your solution to exercise 6\n",
    "#Here i create a mask which returns true if the city has less than 100.000 inhabitants\n",
    "mask = data[:,9] < 100000\n",
    "#Here i use the len() function to find how many municipalities are low density settlements\n",
    "municipalities = len(data[mask])\n",
    "#Here i use the sum function to find how many people live in these low density settlements \n",
    "sum_people = (np.sum(data[:,9][mask]))\n",
    "print('','Number of municipalities with low density settlements:',municipalities,'\\n','Sum of people on low density:', sum_people)"
   ]
  }
 ],
 "metadata": {
  "kernelspec": {
   "display_name": "Python 3",
   "language": "python",
   "name": "python3"
  },
  "language_info": {
   "codemirror_mode": {
    "name": "ipython",
    "version": 3
   },
   "file_extension": ".py",
   "mimetype": "text/x-python",
   "name": "python",
   "nbconvert_exporter": "python",
   "pygments_lexer": "ipython3",
   "version": "3.7.4"
  }
 },
 "nbformat": 4,
 "nbformat_minor": 4
}
