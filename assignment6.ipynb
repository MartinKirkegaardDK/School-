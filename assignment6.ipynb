{
 "cells": [
  {
   "cell_type": "markdown",
   "metadata": {},
   "source": [
    "# Assignment 6\n",
    "#### Due October 28, 2020, 23:59\n",
    "\n",
    "This week's assignment is about simulating a game, namely the famous casino game **craps**. \n",
    "You'll be asked to study the game description in detail and write python code that simulates the game in accordance with these rules. You will then be studying the win rate of the game in relation to the law of large numbers.\n",
    "\n",
    "## Submission\n",
    "Edit and turn in this jupyter notebook file containing your solutions to each task.  \n",
    "Implement your solution to each of the exercises in the code field below the exercise description.  \n",
    "\n",
    "The libraries you may need are already given, any extra imports are not allowed.\n",
    "\n",
    "___\n",
    "\n",
    "### Craps\n",
    "The game of craps is a dice game you'll find in pretty much every casino in the world. The probability of winning craps is approximately 49.3 %.  \n",
    "The game is played with two six-sided dice and consists of two phases: \n",
    "1. **Come-out roll**: the player rolls the two dice. If the sum of the dice is 2, 3 or 12, the player immediately loses. If the sum is 7 or 11, the player immediately wins. Any other come-out roll causes the player to continue to the next phase.\n",
    "2. **Point roll**: the player keeps rolling the two dice again and again until either re-rolling their come-out roll sum or rolling a 7. If the player gets their come-out sum before rolling a 7, the player wins. If a 7 is rolled first, the player loses. \n",
    "\n",
    "This process is illustrated in the figure and examples below.\n",
    "___\n",
    "\n",
    "<img src=\"img/craps.png\" align=\"right\" width=\"350\">\n",
    "\n",
    "***Game example A***  \n",
    "Alice rolls the dice...  \n",
    "\n",
    "Come-out phase:  \n",
    "- &emsp; 1&emsp;  +&emsp;  2&emsp;  =&emsp;  3&emsp;$\\longrightarrow$ loss!  \n",
    "\n",
    "___\n",
    "\n",
    "***Game example B***  \n",
    "Bob rolls the dice... \n",
    "\n",
    "Come-out phase:\n",
    "- 5&emsp;  +&emsp;  1&emsp;  =&emsp;  6&emsp;$\\longrightarrow$ move to point phase\n",
    "\n",
    "Point phase:\n",
    "- 1&emsp;  +&emsp;  2&emsp;  =&emsp;  3&emsp;$\\longrightarrow$ re-roll \n",
    "- 2&emsp;  +&emsp;  6&emsp;  =&emsp;  8&emsp;$\\longrightarrow$ re-roll  \n",
    "- 4&emsp;  +&emsp;  2&emsp;  =&emsp;  6&emsp;$\\longrightarrow$ win!  \n",
    "\n",
    "___\n",
    "\n",
    "***Game example C***  \n",
    "Cat rolls the dice... \n",
    "\n",
    "Come-out phase:\n",
    "- 5&emsp;  +&emsp;  5&emsp;  =&emsp;  10&emsp;$\\longrightarrow$ move to point phase\n",
    "\n",
    "Point phase:\n",
    "- 3&emsp;  +&emsp;  6&emsp;  =&emsp;  9&emsp;&ensp;&ensp;$\\longrightarrow$ re-roll \n",
    "- 6&emsp;  +&emsp;  5&emsp;  =&emsp;  11&emsp;$\\longrightarrow$ re-roll  \n",
    "- 1&emsp;  +&emsp;  3&emsp;  =&emsp;  4&emsp;&ensp;&ensp;$\\longrightarrow$ re-roll  \n",
    "- 2&emsp;  +&emsp;  5&emsp;  =&emsp;  7&emsp;&ensp;&ensp;$\\longrightarrow$ loss!\n",
    "___\n",
    "\n",
    "\n",
    "## Assignment"
   ]
  },
  {
   "cell_type": "code",
   "execution_count": 1,
   "metadata": {},
   "outputs": [],
   "source": [
    "import random\n",
    "import matplotlib.pyplot as plt"
   ]
  },
  {
   "cell_type": "markdown",
   "metadata": {},
   "source": [
    "### Exercise 1\n",
    "First, we need to make a simulation of a single game of craps. \n",
    "\n",
    "Write a function `craps()` that takes no input and returns `True` if the game is won and `False` if the game is lost. Use python's `random` module to simulate the dice rolls.\n",
    "\n",
    "*Note: The simulated dice rolls should of course be fair, that is the probability of rolling any of the possible six outcomes with a single dice should be $\\frac{1}{6}$.*\n",
    "\n",
    "___\n",
    "`craps()`&emsp;&emsp;or&emsp;&emsp;`craps()`  \n",
    "\\>\\> `True`&emsp;&emsp;&emsp;&emsp; &emsp; \\>\\> `False`\n"
   ]
  },
  {
   "cell_type": "code",
   "execution_count": 2,
   "metadata": {},
   "outputs": [
    {
     "data": {
      "text/plain": [
       "True"
      ]
     },
     "execution_count": 2,
     "metadata": {},
     "output_type": "execute_result"
    }
   ],
   "source": [
    "# your solution to exercise 1 here'\n",
    "def craps():\n",
    "    '''\n",
    "    Simulates a game of craps\n",
    "    '''\n",
    "    #sets the state to True\n",
    "    state = True\n",
    "    #roles the two dices\n",
    "    d1 = random.randrange(1,7)\n",
    "    d2 = random.randrange(1,7)\n",
    "    #The sum of the dices\n",
    "    result = d1+d2\n",
    "    if result in {7,11}:\n",
    "        return True\n",
    "    elif result in {2,3,12}:\n",
    "        return False\n",
    "    #Initiates point phase\n",
    "    while state == True:\n",
    "        #roles the dices again\n",
    "        d1 = random.randrange(1,7)\n",
    "        d2 = random.randrange(1,7)\n",
    "        #If the sum = 7 player looses\n",
    "        if d1+d2 == 7:\n",
    "            return False\n",
    "        #if sum = the original dice sum before point phase, player wins\n",
    "        elif d1+d2 == result:\n",
    "            return True\n",
    "        #If none are met, repeat            \n",
    "craps()"
   ]
  },
  {
   "cell_type": "markdown",
   "metadata": {},
   "source": [
    "## Exercise 2\n",
    "When gambling, it is quite important to know the win-rate of the game you're playing.\n",
    "\n",
    "Write a function called `estimate_craps_win_rate(n, seed)` that simulates `n` games of craps and returns the the estimated probability of winning as a float rounded to 3 decimal points.\n",
    "\n",
    "- The `seed` parameter of your function should be used to set the random state using the `random.seed(int)` function for reproducability of your results. Remember to **only set the seed once** in your function!  \n",
    "\n",
    "- Inside your function, you should call your `craps()` function from exercise 1 `n` times to simulate the craps games.\n",
    "\n",
    "- The probability of winning is found by calculating the fraction of games where the player won, i.e. if a player wins 249 out of 500 games, the estimated\n",
    "probability is $\\frac{249}{500} = 0.4981$. \n",
    "___\n",
    "\n",
    "`estimate_craps_win_rate(5, 7)`  \n",
    "\\>\\> `0.8`"
   ]
  },
  {
   "cell_type": "code",
   "execution_count": 3,
   "metadata": {},
   "outputs": [
    {
     "data": {
      "text/plain": [
       "0.8"
      ]
     },
     "execution_count": 3,
     "metadata": {},
     "output_type": "execute_result"
    }
   ],
   "source": [
    "# your solution to exercise 2 here\n",
    "def estimate_craps_win_rate(n,seed):\n",
    "    #sets the seed\n",
    "    random.seed(seed)\n",
    "    #I use a loop to count the wins\n",
    "    x = 0\n",
    "    for i in range(n):\n",
    "        if craps() == True:\n",
    "            x +=1\n",
    "    #returns the winrate\n",
    "    return x/n\n",
    "estimate_craps_win_rate(5,7)"
   ]
  },
  {
   "cell_type": "markdown",
   "metadata": {},
   "source": [
    "## Exercise 3\n",
    "\n",
    "If you try calling `estimate_craps_win_rate(n, seed)` with `n` set to 5 or 10, you’ll notice that the estimated probability may be far from 0.493. However, if you attempt with larger values of `n` you’ll notice that the probability stabilizes.\n",
    "This is explained by a theory called *the Law of Large Numbers* which states that the average of the results obtained from a large number of trials should be close to the expected value. In layman’s terms, this means that while a simulation may defy chance in a few cases, it rarely does so consistently over time. Your task is to investigate\n",
    "this by plotting the phenomenon.\n",
    "\n",
    "Run `estimate_craps_win_rate(n, seed)` for all values of `n`, 1 &leq; n &leq; 1000, and the`seed` set to 17. Plot the resulting values as a scatter plot. The figure should include a horizontal line showing the true winning probability of 0.493.\n",
    "\n",
    "The plot **must** have named labels for the x and y axis, and a title.\n",
    "___\n",
    "\n",
    "<img src=\"img/ex3.png\" align=\"left\" width=\"350\">"
   ]
  },
  {
   "cell_type": "code",
   "execution_count": 6,
   "metadata": {},
   "outputs": [],
   "source": [
    "# your solution to exercise 3 here\n",
    "#Here i generates two empty lists and a list called k. K is the true probability of winning craps\n",
    "x = []\n",
    "y = []\n",
    "k = [49.3]*1000\n",
    "#Here i simulates the games\n",
    "for i in range(1,1001):\n",
    "    x.append(i)\n",
    "    y.append(estimate_craps_win_rate(i,17)*100)"
   ]
  },
  {
   "cell_type": "code",
   "execution_count": 10,
   "metadata": {},
   "outputs": [
    {
     "data": {
      "image/png": "[encoded data removed]",
      "text/plain": [
       "<Figure size 432x288 with 1 Axes>"
      ]
     },
     "metadata": {
      "needs_background": "light"
     },
     "output_type": "display_data"
    }
   ],
   "source": [
    "#Here I plot my data\n",
    "plt.scatter(x, y,c ='r', label = 'simulated data')\n",
    "plt.ylabel('chance of winning in %')\n",
    "plt.xlabel('number of games played')\n",
    "plt.title('Scatterplot with chance of winning compared to number of games played')\n",
    "plt.plot(x, k,'black',label = 'actual chance of winning (49.3%)')\n",
    "plt.legend(loc = 4)\n",
    "plt.show()"
   ]
  },
  {
   "cell_type": "code",
   "execution_count": null,
   "metadata": {},
   "outputs": [],
   "source": []
  }
 ],
 "metadata": {
  "kernelspec": {
   "display_name": "Python 3",
   "language": "python",
   "name": "python3"
  },
  "language_info": {
   "codemirror_mode": {
    "name": "ipython",
    "version": 3
   },
   "file_extension": ".py",
   "mimetype": "text/x-python",
   "name": "python",
   "nbconvert_exporter": "python",
   "pygments_lexer": "ipython3",
   "version": "3.7.4"
  }
 },
 "nbformat": 4,
 "nbformat_minor": 4
}
